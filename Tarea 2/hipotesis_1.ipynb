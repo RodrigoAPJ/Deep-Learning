{
 "cells": [
  {
   "cell_type": "markdown",
   "metadata": {},
   "source": [
    "# Hipotesis:\n",
    "\n",
    "    En problemas de clasificación de sentimiento, entrenar una red para realizar POS-tagging como tarea auxiliar contribuye a mejorar el desempeño en la tarea principal."
   ]
  },
  {
   "cell_type": "code",
   "execution_count": null,
   "metadata": {},
   "outputs": [
    {
     "name": "stderr",
     "output_type": "stream",
     "text": [
      "[nltk_data] Downloading package averaged_perceptron_tagger to\n",
      "[nltk_data]     C:\\Users\\Rod\\AppData\\Roaming\\nltk_data...\n",
      "[nltk_data]   Package averaged_perceptron_tagger is already up-to-\n",
      "[nltk_data]       date!\n",
      "[nltk_data] Downloading package treebank to\n",
      "[nltk_data]     C:\\Users\\Rod\\AppData\\Roaming\\nltk_data...\n",
      "[nltk_data]   Package treebank is already up-to-date!\n",
      "[nltk_data] Downloading package brown to\n",
      "[nltk_data]     C:\\Users\\Rod\\AppData\\Roaming\\nltk_data...\n",
      "[nltk_data]   Package brown is already up-to-date!\n",
      "[nltk_data] Downloading package conll2000 to\n",
      "[nltk_data]     C:\\Users\\Rod\\AppData\\Roaming\\nltk_data...\n",
      "[nltk_data]   Package conll2000 is already up-to-date!\n",
      "[nltk_data] Downloading package universal_tagset to\n",
      "[nltk_data]     C:\\Users\\Rod\\AppData\\Roaming\\nltk_data...\n",
      "[nltk_data]   Package universal_tagset is already up-to-date!\n"
     ]
    }
   ],
   "source": [
    "import numpy as np\n",
    "import pandas as pd\n",
    "import seaborn as sns\n",
    "import matplotlib.pyplot as plt\n",
    "import nltk\n",
    "nltk.download('averaged_perceptron_tagger')\n",
    "from sklearn.feature_extraction.text import CountVectorizer\n",
    "from sklearn.feature_extraction.text import TfidfVectorizer\n",
    "from sklearn.preprocessing import LabelBinarizer\n",
    "from nltk.corpus import stopwords\n",
    "from nltk import pos_tag\n",
    "from nltk.tokenize import word_tokenize,sent_tokenize\n",
    "import re\n",
    "nltk.download('treebank')\n",
    "nltk.download('brown')\n",
    "nltk.download('conll2000')\n",
    "nltk.download('universal_tagset')\n",
    "from nltk.corpus import brown\n",
    "from nltk.corpus import treebank\n",
    "from nltk.corpus import conll2000\n",
    "import tensorflow as tf\n",
    "from tensorflow import keras\n",
    "from tensorflow.keras import layers\n",
    "from tensorflow.keras.utils import to_categorical\n",
    "from tensorflow.keras.models import Sequential\n",
    "from sklearn.model_selection import train_test_split\n",
    "from keras.layers import Dense, Flatten, Conv2D, MaxPooling2D, Dropout, LSTM, Bidirectional, GRU, BatchNormalization,Embedding\n",
    "from keras.layers import Dense, Conv1D, MaxPooling1D\n",
    "from sklearn.preprocessing import StandardScaler, OneHotEncoder\n",
    "\n",
    "from tensorflow.keras.preprocessing.text import Tokenizer\n",
    "from tensorflow.keras.preprocessing.sequence import pad_sequences\n",
    "\n",
    "from sklearn.preprocessing import LabelEncoder"
   ]
  },
  {
   "cell_type": "markdown",
   "metadata": {},
   "source": [
    "# ¿Qué es Pos tag?\n",
    "\n",
    "Pos tag = part of speech tag, significa etiquetar las palabras de un texto dependiendo si son adjetivos, verbos, pronombres, etc."
   ]
  },
  {
   "cell_type": "markdown",
   "metadata": {},
   "source": [
    "# Generacion de dataset\n",
    "\n",
    "Con ayuda de la libreria NLTK se genero un dataset en base a los corpus (cuerpos de texto general) que contiene sus respectivas etiquetas."
   ]
  },
  {
   "cell_type": "code",
   "execution_count": null,
   "metadata": {},
   "outputs": [],
   "source": [
    "treebank_corpus = treebank.tagged_sents(tagset='universal')\n",
    "brown_corpus = brown.tagged_sents(tagset='universal')\n",
    "conll_corpus = conll2000.tagged_sents(tagset='universal')\n",
    "tagged_sentences = treebank_corpus + brown_corpus + conll_corpus"
   ]
  },
  {
   "cell_type": "code",
   "execution_count": null,
   "metadata": {},
   "outputs": [],
   "source": [
    "X = [] \n",
    "Y = [] \n",
    "\n",
    "for sentence in tagged_sentences:\n",
    "    X_sentence = []\n",
    "    Y_sentence = []\n",
    "    for entity in sentence:         \n",
    "        X_sentence.append(entity[0]) \n",
    "        Y_sentence.append(entity[1])  \n",
    "        \n",
    "    X.append(X_sentence)\n",
    "    Y.append(Y_sentence)"
   ]
  },
  {
   "cell_type": "markdown",
   "metadata": {},
   "source": [
    "# Tokenización de las palabras\n",
    "\n",
    "A cada palabra se le asigna un número id para representarla."
   ]
  },
  {
   "cell_type": "code",
   "execution_count": null,
   "metadata": {},
   "outputs": [],
   "source": [
    "word_tokenizer = Tokenizer()                    \n",
    "word_tokenizer.fit_on_texts(X)                   \n",
    "X_encoded = word_tokenizer.texts_to_sequences(X) "
   ]
  },
  {
   "cell_type": "code",
   "execution_count": null,
   "metadata": {},
   "outputs": [],
   "source": [
    "tag_tokenizer = Tokenizer()\n",
    "tag_tokenizer.fit_on_texts(Y)\n",
    "Y_encoded = tag_tokenizer.texts_to_sequences(Y)"
   ]
  },
  {
   "cell_type": "markdown",
   "metadata": {},
   "source": [
    "# Padding de textos\n",
    "\n",
    "Limitamos el largo a 100 palabras por oración y aquellas con menor cantidad a 100 se le agregan ceros para que queden del mismo tamaño"
   ]
  },
  {
   "cell_type": "code",
   "execution_count": null,
   "metadata": {},
   "outputs": [],
   "source": [
    "MAX_SEQ_LENGTH = 100\n",
    "X_padded = pad_sequences(X_encoded, maxlen=MAX_SEQ_LENGTH, padding=\"pre\", truncating=\"post\")\n",
    "Y_padded = pad_sequences(Y_encoded, maxlen=MAX_SEQ_LENGTH, padding=\"pre\", truncating=\"post\")"
   ]
  },
  {
   "cell_type": "code",
   "execution_count": null,
   "metadata": {},
   "outputs": [],
   "source": [
    "X, Y = X_padded, Y_padded"
   ]
  },
  {
   "cell_type": "markdown",
   "metadata": {},
   "source": [
    "# Encodeo de tags (requerido por el modelo)"
   ]
  },
  {
   "cell_type": "code",
   "execution_count": null,
   "metadata": {},
   "outputs": [],
   "source": [
    "Y = to_categorical(Y)"
   ]
  },
  {
   "cell_type": "code",
   "execution_count": null,
   "metadata": {},
   "outputs": [],
   "source": [
    "EMBEDDING_SIZE  = 100 \n",
    "VOCABULARY_SIZE = len(word_tokenizer.word_index) + 1"
   ]
  },
  {
   "cell_type": "code",
   "execution_count": null,
   "metadata": {},
   "outputs": [],
   "source": [
    "X_train, X_test, Y_train, Y_test = train_test_split(X, Y, test_size=0.2, random_state=4)"
   ]
  },
  {
   "cell_type": "code",
   "execution_count": null,
   "metadata": {},
   "outputs": [],
   "source": [
    "NUM_CLASSES = Y.shape[2]"
   ]
  },
  {
   "cell_type": "code",
   "execution_count": null,
   "metadata": {},
   "outputs": [
    {
     "name": "stdout",
     "output_type": "stream",
     "text": [
      "Model: \"sequential\"\n",
      "_________________________________________________________________\n",
      " Layer (type)                Output Shape              Param #   \n",
      "=================================================================\n",
      " embedding (Embedding)       (None, 100, 100)          5944900   \n",
      "                                                                 \n",
      " lstm (LSTM)                 (None, 100, 64)           42240     \n",
      "                                                                 \n",
      " dense (Dense)               (None, 100, 13)           845       \n",
      "                                                                 \n",
      "=================================================================\n",
      "Total params: 5,987,985\n",
      "Trainable params: 5,987,985\n",
      "Non-trainable params: 0\n",
      "_________________________________________________________________\n"
     ]
    }
   ],
   "source": [
    "postag_model = Sequential()\n",
    "# Embedding para tener una mejor representación del texto a procesar\n",
    "postag_model.add(Embedding(input_dim     = VOCABULARY_SIZE,\n",
    "                         output_dim    = EMBEDDING_SIZE,          \n",
    "                         input_length  = MAX_SEQ_LENGTH, \n",
    "                         mask_zero=True\n",
    "                        ))\n",
    "postag_model.add(LSTM(64, return_sequences=True))\n",
    "postag_model.add((Dense(NUM_CLASSES, activation='softmax')))\n",
    "postag_model.compile(loss      =  'categorical_crossentropy',\n",
    "                   optimizer =  'adam',\n",
    "                   metrics   =  ['accuracy'])\n",
    "postag_model.summary()"
   ]
  },
  {
   "cell_type": "code",
   "execution_count": null,
   "metadata": {},
   "outputs": [
    {
     "name": "stdout",
     "output_type": "stream",
     "text": [
      "Epoch 1/5\n",
      "452/452 [==============================] - 170s 364ms/step - loss: 0.1533 - accuracy: 0.7837 - val_loss: 0.0350 - val_accuracy: 0.9468\n",
      "Epoch 2/5\n",
      "452/452 [==============================] - 195s 433ms/step - loss: 0.0262 - accuracy: 0.9580 - val_loss: 0.0274 - val_accuracy: 0.9544\n",
      "Epoch 3/5\n",
      "452/452 [==============================] - 207s 457ms/step - loss: 0.0193 - accuracy: 0.9673 - val_loss: 0.0259 - val_accuracy: 0.9565\n",
      "Epoch 4/5\n",
      "452/452 [==============================] - 210s 465ms/step - loss: 0.0165 - accuracy: 0.9714 - val_loss: 0.0256 - val_accuracy: 0.9572\n",
      "Epoch 5/5\n",
      "452/452 [==============================] - 214s 473ms/step - loss: 0.0146 - accuracy: 0.9749 - val_loss: 0.0259 - val_accuracy: 0.9575\n"
     ]
    },
    {
     "data": {
      "text/plain": [
       "<keras.callbacks.History at 0x1ea2e99cfa0>"
      ]
     },
     "execution_count": 13,
     "metadata": {},
     "output_type": "execute_result"
    }
   ],
   "source": [
    "postag_model.fit(X_train, Y_train, batch_size=128, epochs=5, validation_data=(X_test, Y_test))"
   ]
  },
  {
   "cell_type": "code",
   "execution_count": null,
   "metadata": {},
   "outputs": [],
   "source": [
    "def cleaner(text):\n",
    "    text=text.lower()\n",
    "    for c in \"\\n\":\n",
    "        text = text.replace(c,\" \")\n",
    "    abrev = re.compile(r\"'\\b\\w+\\b\")\n",
    "    text = abrev.sub(r'',text).strip()\n",
    "    \n",
    "    text = re.sub(r'http\\S+', '', text)\n",
    "    text = re.sub(r'#\\S+', '', text)\n",
    "    text = re.sub(r'@\\S+', '', text)\n",
    "    \n",
    "    tag = re.compile(r'<.*?>')\n",
    "    text = tag.sub(r' ',text).strip()\n",
    "    for c in \"!#$%&\\°'()*+,-./:;<=>?@[\\\\]^_{|}~`ø÷´¨\\\"\":\n",
    "        text = text.replace(c,\"\")\n",
    "        \n",
    "    #text = \" \".join([lemmatizer.lemmatize(word) for word in text.split()])                          \n",
    "    text = \" \".join([word for word in str(text).split() if word not in STOPWORDS])\n",
    "    return text"
   ]
  },
  {
   "cell_type": "markdown",
   "metadata": {},
   "source": [
    "# Amazon review sentiment\n",
    "\n",
    "Reviews sobre alimentos entregados por amazon donode los usuarios le entregan una puntuacion de 1 a 5\n",
    "https://www.kaggle.com/code/laowingkin/amazon-fine-food-review-sentiment-analysis/data"
   ]
  },
  {
   "cell_type": "code",
   "execution_count": null,
   "metadata": {},
   "outputs": [],
   "source": [
    "df1 = pd.read_csv('data1/data1.csv')"
   ]
  },
  {
   "cell_type": "code",
   "execution_count": null,
   "metadata": {},
   "outputs": [],
   "source": [
    "df1 = df1[['Score', 'Text']]"
   ]
  },
  {
   "cell_type": "code",
   "execution_count": null,
   "metadata": {},
   "outputs": [
    {
     "data": {
      "text/plain": [
       "(568454, 2)"
      ]
     },
     "execution_count": 17,
     "metadata": {},
     "output_type": "execute_result"
    }
   ],
   "source": [
    "df1.shape"
   ]
  },
  {
   "cell_type": "code",
   "execution_count": null,
   "metadata": {},
   "outputs": [
    {
     "data": {
      "text/plain": [
       "array([5, 1, 4, 2, 3], dtype=int64)"
      ]
     },
     "execution_count": 18,
     "metadata": {},
     "output_type": "execute_result"
    }
   ],
   "source": [
    "df1.Score.unique()"
   ]
  },
  {
   "cell_type": "markdown",
   "metadata": {},
   "source": [
    "# Balanceo de clases\n",
    "Especificamente la clase '5' que era considerablemente mas abundante que las demas"
   ]
  },
  {
   "cell_type": "code",
   "execution_count": null,
   "metadata": {},
   "outputs": [],
   "source": [
    "# Sub sampleamos score == 5 dado que esta altamente desbalanceado\n",
    "score_5 = df1[df1.Score==5]\n",
    "df1 = df1[~df1.index.isin(score_5.index)]\n",
    "score_5 = score_5.sample(frac=.25)\n",
    "df1 = pd.concat([df1, score_5], axis=0)"
   ]
  },
  {
   "cell_type": "code",
   "execution_count": null,
   "metadata": {},
   "outputs": [],
   "source": [
    "# Limpiando el texto\n",
    "df1.Text = df1.Text.apply(lambda x : cleaner(x))"
   ]
  },
  {
   "cell_type": "code",
   "execution_count": null,
   "metadata": {},
   "outputs": [],
   "source": [
    "X_amz = df1.Text\n",
    "Y_amz = df1.Score"
   ]
  },
  {
   "cell_type": "code",
   "execution_count": null,
   "metadata": {},
   "outputs": [],
   "source": [
    "#Y_cat = to_categorical(Y_amz)"
   ]
  },
  {
   "cell_type": "markdown",
   "metadata": {},
   "source": [
    "# Distribucion de clases (balanceada)"
   ]
  },
  {
   "cell_type": "code",
   "execution_count": null,
   "metadata": {},
   "outputs": [
    {
     "data": {
      "image/png": "[encoded data removed]",
      "text/plain": [
       "<Figure size 1728x864 with 1 Axes>"
      ]
     },
     "metadata": {
      "needs_background": "light"
     },
     "output_type": "display_data"
    }
   ],
   "source": [
    "plt.figure(figsize=(24,12))\n",
    "plt.title('Balance', size=16)\n",
    "sns.countplot(x=Y_amz)\n",
    "plt.ylabel('Count', size=12)\n",
    "plt.xlabel('Label', size=12)\n",
    "plt.xticks(rotation=90)\n",
    "sns.despine(top=True, right=True, left=False, bottom=False)\n",
    "plt.show()"
   ]
  },
  {
   "cell_type": "code",
   "execution_count": null,
   "metadata": {},
   "outputs": [],
   "source": [
    "#Encoding label\n",
    "encoder = OneHotEncoder()\n",
    "Y_cat=encoder.fit_transform(Y_amz.values.reshape(-1,1)).toarray()"
   ]
  },
  {
   "cell_type": "code",
   "execution_count": null,
   "metadata": {},
   "outputs": [
    {
     "data": {
      "text/plain": [
       "array([[1., 0., 0., 0., 0.],\n",
       "       [0., 0., 0., 1., 0.],\n",
       "       [0., 1., 0., 0., 0.],\n",
       "       ...,\n",
       "       [0., 0., 0., 0., 1.],\n",
       "       [0., 0., 0., 0., 1.],\n",
       "       [0., 0., 0., 0., 1.]])"
      ]
     },
     "execution_count": 23,
     "metadata": {},
     "output_type": "execute_result"
    }
   ],
   "source": [
    "Y_cat"
   ]
  },
  {
   "cell_type": "code",
   "execution_count": null,
   "metadata": {},
   "outputs": [],
   "source": [
    "amz_X_train, amz_X_test, amz_y_train, amz_y_test = train_test_split(X_amz, Y_cat, test_size=0.2, random_state=42)"
   ]
  },
  {
   "cell_type": "markdown",
   "metadata": {},
   "source": [
    "# Tokenizando las reviews (con el vocabulario del modelo de pos tag)"
   ]
  },
  {
   "cell_type": "code",
   "execution_count": null,
   "metadata": {},
   "outputs": [],
   "source": [
    "amz_X_train_tk = word_tokenizer.texts_to_sequences(amz_X_train)\n",
    "amz_X_test_tk = word_tokenizer.texts_to_sequences(amz_X_test)\n",
    "\n",
    "amz_vocab_len = len(word_tokenizer.word_index) + 1 "
   ]
  },
  {
   "cell_type": "code",
   "execution_count": null,
   "metadata": {},
   "outputs": [
    {
     "data": {
      "text/plain": [
       "59449"
      ]
     },
     "execution_count": 28,
     "metadata": {},
     "output_type": "execute_result"
    }
   ],
   "source": [
    "VOCABULARY_SIZE"
   ]
  },
  {
   "cell_type": "code",
   "execution_count": null,
   "metadata": {},
   "outputs": [],
   "source": [
    "amz_X_train_tk = pad_sequences(amz_X_train_tk, maxlen=MAX_SEQ_LENGTH, padding=\"pre\", truncating=\"post\")\n",
    "amz_X_test_tk = pad_sequences(amz_X_test_tk, maxlen=MAX_SEQ_LENGTH, padding=\"pre\", truncating=\"post\")"
   ]
  },
  {
   "cell_type": "markdown",
   "metadata": {},
   "source": [
    "# Modelo sin uso de pos tag\n",
    "Se entrega unicamente las reviews tokenizadas"
   ]
  },
  {
   "cell_type": "code",
   "execution_count": null,
   "metadata": {},
   "outputs": [
    {
     "name": "stdout",
     "output_type": "stream",
     "text": [
      "Model: \"sequential_1\"\n",
      "_________________________________________________________________\n",
      " Layer (type)                Output Shape              Param #   \n",
      "=================================================================\n",
      " embedding_1 (Embedding)     (None, 100, 100)          5944900   \n",
      "                                                                 \n",
      " conv1d (Conv1D)             (None, 94, 128)           89728     \n",
      "                                                                 \n",
      " conv1d_1 (Conv1D)           (None, 88, 128)           114816    \n",
      "                                                                 \n",
      " batch_normalization (BatchN  (None, 88, 128)          512       \n",
      " ormalization)                                                   \n",
      "                                                                 \n",
      " dropout (Dropout)           (None, 88, 128)           0         \n",
      "                                                                 \n",
      " max_pooling1d (MaxPooling1D  (None, 42, 128)          0         \n",
      " )                                                               \n",
      "                                                                 \n",
      " conv1d_2 (Conv1D)           (None, 38, 64)            41024     \n",
      "                                                                 \n",
      " conv1d_3 (Conv1D)           (None, 34, 64)            20544     \n",
      "                                                                 \n",
      " batch_normalization_1 (Batc  (None, 34, 64)           256       \n",
      " hNormalization)                                                 \n",
      "                                                                 \n",
      " dropout_1 (Dropout)         (None, 34, 64)            0         \n",
      "                                                                 \n",
      " flatten (Flatten)           (None, 2176)              0         \n",
      "                                                                 \n",
      " dense_1 (Dense)             (None, 5)                 10885     \n",
      "                                                                 \n",
      "=================================================================\n",
      "Total params: 6,222,665\n",
      "Trainable params: 6,222,281\n",
      "Non-trainable params: 384\n",
      "_________________________________________________________________\n"
     ]
    }
   ],
   "source": [
    "amz_model = Sequential([\n",
    "          layers.Embedding(input_dim=VOCABULARY_SIZE, \n",
    "                           output_dim=EMBEDDING_SIZE, \n",
    "                           input_length=MAX_SEQ_LENGTH,\n",
    "                          ),\n",
    "          layers.Conv1D(128, 7, activation='relu'),\n",
    "          layers.Conv1D(128,7, activation='relu'),\n",
    "          layers.BatchNormalization(),\n",
    "          layers.Dropout(0.25),\n",
    "          layers.MaxPooling1D(pool_size=5, strides = 2),\n",
    "          layers.Conv1D(64,5, activation='relu'),\n",
    "          layers.Conv1D(64,5, activation='relu'),\n",
    "          layers.BatchNormalization(),\n",
    "          layers.Dropout(0.25),\n",
    "          layers.Flatten(),\n",
    "          # layers.Dropout(0.5),\n",
    "          # layers.LSTM(100, dropout=0.2, recurrent_dropout=0.2),\n",
    "          layers.Dense(5, activation='softmax'),\n",
    "    ])\n",
    "amz_model.compile(loss = 'categorical_crossentropy', optimizer='adam', metrics=['accuracy'])\n",
    "amz_model.summary()"
   ]
  },
  {
   "cell_type": "code",
   "execution_count": null,
   "metadata": {},
   "outputs": [
    {
     "name": "stdout",
     "output_type": "stream",
     "text": [
      "Epoch 1/7\n",
      "926/926 [==============================] - 84s 85ms/step - loss: 1.2323 - accuracy: 0.4881 - val_loss: 1.3163 - val_accuracy: 0.4700\n",
      "Epoch 2/7\n",
      "926/926 [==============================] - 57s 61ms/step - loss: 0.9457 - accuracy: 0.6205 - val_loss: 0.9712 - val_accuracy: 0.6160\n",
      "Epoch 3/7\n",
      "926/926 [==============================] - 58s 63ms/step - loss: 0.7638 - accuracy: 0.7000 - val_loss: 0.9617 - val_accuracy: 0.6281\n",
      "Epoch 4/7\n",
      "926/926 [==============================] - 56s 60ms/step - loss: 0.5936 - accuracy: 0.7722 - val_loss: 1.0995 - val_accuracy: 0.6147\n",
      "Epoch 5/7\n",
      "926/926 [==============================] - 55s 59ms/step - loss: 0.4604 - accuracy: 0.8262 - val_loss: 1.3290 - val_accuracy: 0.5959\n",
      "Epoch 6/7\n",
      "926/926 [==============================] - 54s 59ms/step - loss: 0.3644 - accuracy: 0.8637 - val_loss: 1.5047 - val_accuracy: 0.5925\n",
      "Epoch 7/7\n",
      "926/926 [==============================] - 53s 58ms/step - loss: 0.2986 - accuracy: 0.8900 - val_loss: 1.4067 - val_accuracy: 0.6391\n"
     ]
    },
    {
     "data": {
      "text/plain": [
       "<keras.callbacks.History at 0x1ea28cc8910>"
      ]
     },
     "execution_count": 31,
     "metadata": {},
     "output_type": "execute_result"
    }
   ],
   "source": [
    "amz_model.fit(amz_X_train_tk, amz_y_train, epochs = 7, validation_data=(amz_X_test_tk, amz_y_test), batch_size=256)"
   ]
  },
  {
   "cell_type": "markdown",
   "metadata": {},
   "source": [
    "# Pos Tagging las reviews\n",
    "Se hacen predicciones con el modelo de pos taggin"
   ]
  },
  {
   "cell_type": "code",
   "execution_count": null,
   "metadata": {},
   "outputs": [],
   "source": [
    "#word_tokenizer.texts_to_sequences(X_train)\n",
    "amz_X_train_tagged=postag_model.predict(amz_X_train_tk)\n",
    "amz_X_test_tagged=postag_model.predict(amz_X_test_tk)"
   ]
  },
  {
   "cell_type": "code",
   "execution_count": null,
   "metadata": {},
   "outputs": [],
   "source": [
    "def get_tag(data):\n",
    "    decod_pred=[]\n",
    "    for p in np.argmax(data,axis=2):\n",
    "        aux=[]\n",
    "        for i in p:\n",
    "            if i !=0:\n",
    "                aux.append(i)\n",
    "            else:\n",
    "                aux.append(12)\n",
    "                #aux.append(tag_tokenizer.index_word[i])\n",
    "        decod_pred.append(np.array(aux))\n",
    "    return np.array(decod_pred)"
   ]
  },
  {
   "cell_type": "code",
   "execution_count": null,
   "metadata": {},
   "outputs": [],
   "source": [
    "amz_xtrain_decod=get_tag(amz_X_train_tagged)\n",
    "amz_xtest_decod=get_tag(amz_X_test_tagged)"
   ]
  },
  {
   "cell_type": "markdown",
   "metadata": {},
   "source": [
    "# Concatenando los pos tag a las reviews\n",
    "Se unen los array de reviews y pos tag tokenizados"
   ]
  },
  {
   "cell_type": "code",
   "execution_count": null,
   "metadata": {},
   "outputs": [],
   "source": [
    "amz_x_train_final = np.hstack([amz_X_train_tk, amz_xtrain_decod])\n",
    "amz_x_test_final=np.hstack([amz_X_test_tk, amz_xtest_decod])"
   ]
  },
  {
   "cell_type": "markdown",
   "metadata": {},
   "source": [
    "# Modelo con reviews + pos tag\n",
    "Se pasa el nuevo arreglo de reviews y sus respectivos pos tag juntos"
   ]
  },
  {
   "cell_type": "code",
   "execution_count": null,
   "metadata": {},
   "outputs": [
    {
     "name": "stdout",
     "output_type": "stream",
     "text": [
      "Model: \"sequential_2\"\n",
      "_________________________________________________________________\n",
      " Layer (type)                Output Shape              Param #   \n",
      "=================================================================\n",
      " embedding_2 (Embedding)     (None, 200, 100)          5944900   \n",
      "                                                                 \n",
      " conv1d_4 (Conv1D)           (None, 194, 128)          89728     \n",
      "                                                                 \n",
      " conv1d_5 (Conv1D)           (None, 188, 128)          114816    \n",
      "                                                                 \n",
      " batch_normalization_2 (Batc  (None, 188, 128)         512       \n",
      " hNormalization)                                                 \n",
      "                                                                 \n",
      " dropout_2 (Dropout)         (None, 188, 128)          0         \n",
      "                                                                 \n",
      " max_pooling1d_1 (MaxPooling  (None, 92, 128)          0         \n",
      " 1D)                                                             \n",
      "                                                                 \n",
      " conv1d_6 (Conv1D)           (None, 88, 64)            41024     \n",
      "                                                                 \n",
      " conv1d_7 (Conv1D)           (None, 84, 64)            20544     \n",
      "                                                                 \n",
      " batch_normalization_3 (Batc  (None, 84, 64)           256       \n",
      " hNormalization)                                                 \n",
      "                                                                 \n",
      " dropout_3 (Dropout)         (None, 84, 64)            0         \n",
      "                                                                 \n",
      " flatten_1 (Flatten)         (None, 5376)              0         \n",
      "                                                                 \n",
      " dense_2 (Dense)             (None, 5)                 26885     \n",
      "                                                                 \n",
      "=================================================================\n",
      "Total params: 6,238,665\n",
      "Trainable params: 6,238,281\n",
      "Non-trainable params: 384\n",
      "_________________________________________________________________\n"
     ]
    }
   ],
   "source": [
    "amz_model2 = Sequential([\n",
    "          layers.Embedding(input_dim=VOCABULARY_SIZE, \n",
    "                           output_dim=EMBEDDING_SIZE, \n",
    "                           input_length=MAX_SEQ_LENGTH*2,\n",
    "                          ),\n",
    "          layers.Conv1D(128, 7, activation='relu'),\n",
    "          layers.Conv1D(128,7, activation='relu'),\n",
    "          layers.BatchNormalization(),\n",
    "          layers.Dropout(0.25),\n",
    "          layers.MaxPooling1D(pool_size=5, strides = 2),\n",
    "          layers.Conv1D(64,5, activation='relu'),\n",
    "          layers.Conv1D(64,5, activation='relu'),\n",
    "          layers.BatchNormalization(),\n",
    "          layers.Dropout(0.25),\n",
    "          layers.Flatten(),\n",
    "          layers.Dense(5, activation='softmax'),\n",
    "    ])\n",
    "amz_model2.compile(loss = 'categorical_crossentropy', optimizer='adam', metrics=['accuracy'])\n",
    "amz_model2.summary()"
   ]
  },
  {
   "cell_type": "code",
   "execution_count": null,
   "metadata": {},
   "outputs": [
    {
     "name": "stdout",
     "output_type": "stream",
     "text": [
      "Epoch 1/7\n",
      "926/926 [==============================] - 89s 95ms/step - loss: 1.2205 - accuracy: 0.5007 - val_loss: 1.0505 - val_accuracy: 0.5636\n",
      "Epoch 2/7\n",
      "926/926 [==============================] - 86s 93ms/step - loss: 0.9089 - accuracy: 0.6372 - val_loss: 0.9654 - val_accuracy: 0.6363\n",
      "Epoch 3/7\n",
      "926/926 [==============================] - 87s 94ms/step - loss: 0.7052 - accuracy: 0.7268 - val_loss: 1.0113 - val_accuracy: 0.6164\n",
      "Epoch 4/7\n",
      "926/926 [==============================] - 88s 95ms/step - loss: 0.5224 - accuracy: 0.8021 - val_loss: 1.0613 - val_accuracy: 0.6482\n",
      "Epoch 5/7\n",
      "926/926 [==============================] - 88s 95ms/step - loss: 0.3910 - accuracy: 0.8545 - val_loss: 1.1147 - val_accuracy: 0.6734\n",
      "Epoch 6/7\n",
      "926/926 [==============================] - 88s 95ms/step - loss: 0.2974 - accuracy: 0.8915 - val_loss: 1.3356 - val_accuracy: 0.6702\n",
      "Epoch 7/7\n",
      "926/926 [==============================] - 89s 96ms/step - loss: 0.2382 - accuracy: 0.9134 - val_loss: 1.4399 - val_accuracy: 0.6758\n"
     ]
    },
    {
     "data": {
      "text/plain": [
       "<keras.callbacks.History at 0x1ea2f008d30>"
      ]
     },
     "execution_count": 64,
     "metadata": {},
     "output_type": "execute_result"
    }
   ],
   "source": [
    "amz_model2.fit(amz_x_train_final, amz_y_train, epochs = 7, validation_data=(amz_x_test_final, amz_y_test), batch_size=256)"
   ]
  },
  {
   "cell_type": "markdown",
   "metadata": {},
   "source": [
    "# IMDB Movie reviews sentiment\n",
    "\n",
    "Dataset con reviews sobre peliculas que son etiquetados como positivas o negativas"
   ]
  },
  {
   "cell_type": "markdown",
   "metadata": {},
   "source": [
    "http://ai.stanford.edu/~amaas/data/sentiment/"
   ]
  },
  {
   "cell_type": "code",
   "execution_count": null,
   "metadata": {},
   "outputs": [],
   "source": [
    "df2 = pd.read_csv('data2/IMDB_Dataset.csv')"
   ]
  },
  {
   "cell_type": "code",
   "execution_count": null,
   "metadata": {},
   "outputs": [
    {
     "data": {
      "text/html": [
       "<div>\n",
       "<style scoped>\n",
       "    .dataframe tbody tr th:only-of-type {\n",
       "        vertical-align: middle;\n",
       "    }\n",
       "\n",
       "    .dataframe tbody tr th {\n",
       "        vertical-align: top;\n",
       "    }\n",
       "\n",
       "    .dataframe thead th {\n",
       "        text-align: right;\n",
       "    }\n",
       "</style>\n",
       "<table border=\"1\" class=\"dataframe\">\n",
       "  <thead>\n",
       "    <tr style=\"text-align: right;\">\n",
       "      <th></th>\n",
       "      <th>review</th>\n",
       "      <th>sentiment</th>\n",
       "    </tr>\n",
       "  </thead>\n",
       "  <tbody>\n",
       "    <tr>\n",
       "      <th>0</th>\n",
       "      <td>One of the other reviewers has mentioned that ...</td>\n",
       "      <td>positive</td>\n",
       "    </tr>\n",
       "    <tr>\n",
       "      <th>1</th>\n",
       "      <td>A wonderful little production. &lt;br /&gt;&lt;br /&gt;The...</td>\n",
       "      <td>positive</td>\n",
       "    </tr>\n",
       "    <tr>\n",
       "      <th>2</th>\n",
       "      <td>I thought this was a wonderful way to spend ti...</td>\n",
       "      <td>positive</td>\n",
       "    </tr>\n",
       "    <tr>\n",
       "      <th>3</th>\n",
       "      <td>Basically there's a family where a little boy ...</td>\n",
       "      <td>negative</td>\n",
       "    </tr>\n",
       "    <tr>\n",
       "      <th>4</th>\n",
       "      <td>Petter Mattei's \"Love in the Time of Money\" is...</td>\n",
       "      <td>positive</td>\n",
       "    </tr>\n",
       "    <tr>\n",
       "      <th>...</th>\n",
       "      <td>...</td>\n",
       "      <td>...</td>\n",
       "    </tr>\n",
       "    <tr>\n",
       "      <th>49995</th>\n",
       "      <td>I thought this movie did a down right good job...</td>\n",
       "      <td>positive</td>\n",
       "    </tr>\n",
       "    <tr>\n",
       "      <th>49996</th>\n",
       "      <td>Bad plot, bad dialogue, bad acting, idiotic di...</td>\n",
       "      <td>negative</td>\n",
       "    </tr>\n",
       "    <tr>\n",
       "      <th>49997</th>\n",
       "      <td>I am a Catholic taught in parochial elementary...</td>\n",
       "      <td>negative</td>\n",
       "    </tr>\n",
       "    <tr>\n",
       "      <th>49998</th>\n",
       "      <td>I'm going to have to disagree with the previou...</td>\n",
       "      <td>negative</td>\n",
       "    </tr>\n",
       "    <tr>\n",
       "      <th>49999</th>\n",
       "      <td>No one expects the Star Trek movies to be high...</td>\n",
       "      <td>negative</td>\n",
       "    </tr>\n",
       "  </tbody>\n",
       "</table>\n",
       "<p>50000 rows × 2 columns</p>\n",
       "</div>"
      ],
      "text/plain": [
       "                                                  review sentiment\n",
       "0      One of the other reviewers has mentioned that ...  positive\n",
       "1      A wonderful little production. <br /><br />The...  positive\n",
       "2      I thought this was a wonderful way to spend ti...  positive\n",
       "3      Basically there's a family where a little boy ...  negative\n",
       "4      Petter Mattei's \"Love in the Time of Money\" is...  positive\n",
       "...                                                  ...       ...\n",
       "49995  I thought this movie did a down right good job...  positive\n",
       "49996  Bad plot, bad dialogue, bad acting, idiotic di...  negative\n",
       "49997  I am a Catholic taught in parochial elementary...  negative\n",
       "49998  I'm going to have to disagree with the previou...  negative\n",
       "49999  No one expects the Star Trek movies to be high...  negative\n",
       "\n",
       "[50000 rows x 2 columns]"
      ]
     },
     "execution_count": 38,
     "metadata": {},
     "output_type": "execute_result"
    }
   ],
   "source": [
    "df2"
   ]
  },
  {
   "cell_type": "code",
   "execution_count": null,
   "metadata": {},
   "outputs": [
    {
     "data": {
      "text/plain": [
       "\"One of the other reviewers has mentioned that after watching just 1 Oz episode you'll be hooked. They are right, as this is exactly what happened with me.<br /><br />The first thing that struck me about Oz was its brutality and unflinching scenes of violence, which set in right from the word GO. Trust me, this is not a show for the faint hearted or timid. This show pulls no punches with regards to drugs, sex or violence. Its is hardcore, in the classic use of the word.<br /><br />It is called OZ as that is the nickname given to the Oswald Maximum Security State Penitentary. It focuses mainly on Emerald City, an experimental section of the prison where all the cells have glass fronts and face inwards, so privacy is not high on the agenda. Em City is home to many..Aryans, Muslims, gangstas, Latinos, Christians, Italians, Irish and more....so scuffles, death stares, dodgy dealings and shady agreements are never far away.<br /><br />I would say the main appeal of the show is due to the fact that it goes where other shows wouldn't dare. Forget pretty pictures painted for mainstream audiences, forget charm, forget romance...OZ doesn't mess around. The first episode I ever saw struck me as so nasty it was surreal, I couldn't say I was ready for it, but as I watched more, I developed a taste for Oz, and got accustomed to the high levels of graphic violence. Not just violence, but injustice (crooked guards who'll be sold out for a nickel, inmates who'll kill on order and get away with it, well mannered, middle class inmates being turned into prison bitches due to their lack of street skills or prison experience) Watching Oz, you may become comfortable with what is uncomfortable viewing....thats if you can get in touch with your darker side.\""
      ]
     },
     "execution_count": 39,
     "metadata": {},
     "output_type": "execute_result"
    }
   ],
   "source": [
    "df2.iloc[0].review"
   ]
  },
  {
   "cell_type": "code",
   "execution_count": null,
   "metadata": {},
   "outputs": [],
   "source": [
    "#limpiando texto\n",
    "df2.review = df2.review.apply(lambda row: cleaner(row))"
   ]
  },
  {
   "cell_type": "code",
   "execution_count": null,
   "metadata": {},
   "outputs": [],
   "source": [
    "# encodeando label\n",
    "df2.sentiment = df2.sentiment.apply(lambda row: 1 if row == 'positive' else 0)"
   ]
  },
  {
   "cell_type": "code",
   "execution_count": null,
   "metadata": {},
   "outputs": [],
   "source": [
    "X = df2.review\n",
    "Y = df2.sentiment"
   ]
  },
  {
   "cell_type": "code",
   "execution_count": null,
   "metadata": {},
   "outputs": [],
   "source": [
    "X_train, X_test, y_train, y_test = train_test_split(X, Y, test_size=0.2, random_state=42)"
   ]
  },
  {
   "cell_type": "markdown",
   "metadata": {},
   "source": [
    "# Distribucion de clases"
   ]
  },
  {
   "cell_type": "code",
   "execution_count": null,
   "metadata": {},
   "outputs": [
    {
     "data": {
      "image/png": "[encoded data removed]",
      "text/plain": [
       "<Figure size 1728x864 with 1 Axes>"
      ]
     },
     "metadata": {
      "needs_background": "light"
     },
     "output_type": "display_data"
    }
   ],
   "source": [
    "plt.figure(figsize=(24,12))\n",
    "plt.title('Balance', size=16)\n",
    "sns.countplot(x=Y)\n",
    "plt.ylabel('Count', size=12)\n",
    "plt.xlabel('Label', size=12)\n",
    "plt.xticks(rotation=90)\n",
    "sns.despine(top=True, right=True, left=False, bottom=False)\n",
    "plt.show()"
   ]
  },
  {
   "cell_type": "markdown",
   "metadata": {},
   "source": [
    "# Tokenizando las reviews con el vocabulario del modelo de pos tag"
   ]
  },
  {
   "cell_type": "code",
   "execution_count": null,
   "metadata": {},
   "outputs": [],
   "source": [
    "\n",
    "X_train_tk = word_tokenizer.texts_to_sequences(X_train)\n",
    "X_test_tk = word_tokenizer.texts_to_sequences(X_test)\n",
    "\n",
    "vocab_len = len(word_tokenizer.word_index) + 1 "
   ]
  },
  {
   "cell_type": "code",
   "execution_count": null,
   "metadata": {},
   "outputs": [],
   "source": [
    "X_train_tk = pad_sequences(X_train_tk, maxlen=MAX_SEQ_LENGTH, padding=\"pre\", truncating=\"post\")\n",
    "X_test_tk = pad_sequences(X_test_tk, maxlen=MAX_SEQ_LENGTH, padding=\"pre\", truncating=\"post\")"
   ]
  },
  {
   "cell_type": "code",
   "execution_count": null,
   "metadata": {},
   "outputs": [
    {
     "data": {
      "text/plain": [
       "(40000, 100)"
      ]
     },
     "execution_count": 47,
     "metadata": {},
     "output_type": "execute_result"
    }
   ],
   "source": [
    "X_train_tk.shape"
   ]
  },
  {
   "cell_type": "code",
   "execution_count": null,
   "metadata": {},
   "outputs": [
    {
     "data": {
      "text/plain": [
       "array([ 1464,   848,  2866,  1464,   848,  2866,   963,  1730,   362,\n",
       "         875,  2131,   923,   938,  1730,   946,   676, 12676,   275,\n",
       "       32623,  3355,  4093,  8675, 51990,  1083,  4093,  1181, 32623,\n",
       "        3531,   328, 51990,   720,  6091,   566,  1151,  4771,  3695,\n",
       "         480,  4412,  1097,  8456,    41,  1378,   152,  1243, 53734,\n",
       "        9684, 45138, 18312,  1709, 49622,   184,   421, 18394,  8456,\n",
       "         990,   300,   676,  1021,   185,   790,  1378,  4597,  9647,\n",
       "        1505,    47,  2766,   240,  1517,   549,  1378,  1829, 19909,\n",
       "       32819, 12528,  8614,  1156,  1513,  1221,  2984,  3557, 15485,\n",
       "        1435,  1505,   608,  1221,  1981, 29760,  1079,   821,  4160,\n",
       "        4610,  1181,  2365,  4771,  1151,  8456,  1292,  7252,  1221,\n",
       "         169])"
      ]
     },
     "execution_count": 48,
     "metadata": {},
     "output_type": "execute_result"
    }
   ],
   "source": [
    "X_train_tk[1]"
   ]
  },
  {
   "cell_type": "code",
   "execution_count": null,
   "metadata": {},
   "outputs": [],
   "source": [
    "embed_dim = 100"
   ]
  },
  {
   "cell_type": "markdown",
   "metadata": {},
   "source": [
    "# Modelo sin pos tag\n",
    "Se le entrega unicamente las reviews tokenizadas"
   ]
  },
  {
   "cell_type": "code",
   "execution_count": null,
   "metadata": {},
   "outputs": [
    {
     "name": "stdout",
     "output_type": "stream",
     "text": [
      "Model: \"sequential_3\"\n",
      "_________________________________________________________________\n",
      " Layer (type)                Output Shape              Param #   \n",
      "=================================================================\n",
      " embedding_3 (Embedding)     (None, 100, 100)          5944900   \n",
      "                                                                 \n",
      " conv1d_8 (Conv1D)           (None, 94, 128)           89728     \n",
      "                                                                 \n",
      " conv1d_9 (Conv1D)           (None, 88, 128)           114816    \n",
      "                                                                 \n",
      " batch_normalization_4 (Batc  (None, 88, 128)          512       \n",
      " hNormalization)                                                 \n",
      "                                                                 \n",
      " dropout_4 (Dropout)         (None, 88, 128)           0         \n",
      "                                                                 \n",
      " max_pooling1d_2 (MaxPooling  (None, 42, 128)          0         \n",
      " 1D)                                                             \n",
      "                                                                 \n",
      " conv1d_10 (Conv1D)          (None, 38, 64)            41024     \n",
      "                                                                 \n",
      " conv1d_11 (Conv1D)          (None, 34, 64)            20544     \n",
      "                                                                 \n",
      " batch_normalization_5 (Batc  (None, 34, 64)           256       \n",
      " hNormalization)                                                 \n",
      "                                                                 \n",
      " dropout_5 (Dropout)         (None, 34, 64)            0         \n",
      "                                                                 \n",
      " flatten_2 (Flatten)         (None, 2176)              0         \n",
      "                                                                 \n",
      " dense_3 (Dense)             (None, 1)                 2177      \n",
      "                                                                 \n",
      "=================================================================\n",
      "Total params: 6,213,957\n",
      "Trainable params: 6,213,573\n",
      "Non-trainable params: 384\n",
      "_________________________________________________________________\n"
     ]
    }
   ],
   "source": [
    "model = Sequential([\n",
    "          layers.Embedding(input_dim=VOCABULARY_SIZE, \n",
    "                           output_dim=EMBEDDING_SIZE, \n",
    "                           input_length=MAX_SEQ_LENGTH),\n",
    "          layers.Conv1D(128, 7, activation='relu'),\n",
    "          layers.Conv1D(128,7, activation='relu'),\n",
    "          layers.BatchNormalization(),\n",
    "          layers.Dropout(0.25),\n",
    "          layers.MaxPooling1D(pool_size=5, strides = 2),\n",
    "          layers.Conv1D(64,5, activation='relu'),\n",
    "          layers.Conv1D(64,5, activation='relu'),\n",
    "          layers.BatchNormalization(),\n",
    "          layers.Dropout(0.25),\n",
    "          layers.Flatten(),\n",
    "          layers.Dense(1, activation='sigmoid'),\n",
    "    ])\n",
    "model.compile(loss = 'binary_crossentropy', optimizer='adam',metrics = ['accuracy'])\n",
    "model.summary()"
   ]
  },
  {
   "cell_type": "code",
   "execution_count": null,
   "metadata": {},
   "outputs": [
    {
     "name": "stdout",
     "output_type": "stream",
     "text": [
      "Epoch 1/7\n",
      "1250/1250 [==============================] - 35s 26ms/step - loss: 0.4538 - accuracy: 0.7844 - val_loss: 0.3357 - val_accuracy: 0.8557\n",
      "Epoch 2/7\n",
      "1250/1250 [==============================] - 31s 25ms/step - loss: 0.2541 - accuracy: 0.8985 - val_loss: 0.3701 - val_accuracy: 0.8471\n",
      "Epoch 3/7\n",
      "1250/1250 [==============================] - 31s 25ms/step - loss: 0.1563 - accuracy: 0.9401 - val_loss: 0.4227 - val_accuracy: 0.8501\n",
      "Epoch 4/7\n",
      "1250/1250 [==============================] - 31s 24ms/step - loss: 0.0854 - accuracy: 0.9686 - val_loss: 0.5358 - val_accuracy: 0.8463\n",
      "Epoch 5/7\n",
      "1250/1250 [==============================] - 31s 25ms/step - loss: 0.0589 - accuracy: 0.9790 - val_loss: 0.6036 - val_accuracy: 0.8450\n",
      "Epoch 6/7\n",
      "1250/1250 [==============================] - 32s 26ms/step - loss: 0.0418 - accuracy: 0.9854 - val_loss: 0.7269 - val_accuracy: 0.8427\n",
      "Epoch 7/7\n",
      "1250/1250 [==============================] - 32s 25ms/step - loss: 0.0357 - accuracy: 0.9869 - val_loss: 0.8003 - val_accuracy: 0.8408\n"
     ]
    },
    {
     "data": {
      "text/plain": [
       "<keras.callbacks.History at 0x1ea2bd1de20>"
      ]
     },
     "execution_count": 51,
     "metadata": {},
     "output_type": "execute_result"
    }
   ],
   "source": [
    "model.fit(X_train_tk, y_train.values, epochs = 7, validation_data=(X_test_tk, y_test),batch_size=32)"
   ]
  },
  {
   "cell_type": "markdown",
   "metadata": {},
   "source": [
    "# Pos tagging las reviews\n",
    "Se hace un predict con el modelo para pos tag"
   ]
  },
  {
   "cell_type": "code",
   "execution_count": null,
   "metadata": {},
   "outputs": [],
   "source": [
    "X_train_tagged=postag_model.predict(X_train_tk)"
   ]
  },
  {
   "cell_type": "code",
   "execution_count": null,
   "metadata": {},
   "outputs": [],
   "source": [
    "X_test_tagged=postag_model.predict(X_test_tk)"
   ]
  },
  {
   "cell_type": "code",
   "execution_count": null,
   "metadata": {},
   "outputs": [
    {
     "data": {
      "text/plain": [
       "array([  694,  1664,   103, 11076,  6968,  7036, 20361,   195, 49437,\n",
       "       40622, 14709,   634, 10135,   849,   226,  3557,   140,  2759,\n",
       "        2326,  1572,   713,  3222,  3499,   866,   619,  4472,  5300,\n",
       "        8371,   381,   111,   260, 13877,  1984, 17745,   119,  9326,\n",
       "         424,    41, 27449,   791,  4077,  1278,   119,    39, 46136,\n",
       "       15781,   312,  1028, 10240, 38451,  1916,  4157,  3025,  4373,\n",
       "         171,  2263,   223,  7746,  2189,   474,  3926,  1361, 10772,\n",
       "         809,  1021,  9079, 15688,  2722, 32510,   595,  3325,   416,\n",
       "         169,   869,   274,   716,   206,    81,  4951,   364, 11877,\n",
       "         152, 13404,   218, 22510,  7957,  9588,  5671,  2406,  5016,\n",
       "       33473,   776, 31555,    92,  1239,   640,  5818,  1568,  2351,\n",
       "        2471])"
      ]
     },
     "execution_count": 54,
     "metadata": {},
     "output_type": "execute_result"
    }
   ],
   "source": [
    "X_train_tk[0]"
   ]
  },
  {
   "cell_type": "code",
   "execution_count": null,
   "metadata": {},
   "outputs": [],
   "source": [
    "def get_tag(data):\n",
    "    decod_pred=[]\n",
    "    for p in np.argmax(data,axis=2):\n",
    "        aux=[]\n",
    "        for i in p:\n",
    "            if i !=0:\n",
    "                aux.append(i)\n",
    "            else:\n",
    "                aux.append(12)\n",
    "                #aux.append(tag_tokenizer.index_word[i])\n",
    "        decod_pred.append(np.array(aux))\n",
    "    return np.array(decod_pred)"
   ]
  },
  {
   "cell_type": "code",
   "execution_count": null,
   "metadata": {},
   "outputs": [],
   "source": [
    "xtrain_decod=get_tag(X_train_tagged)\n",
    "xtest_decod=get_tag(X_test_tagged)"
   ]
  },
  {
   "cell_type": "code",
   "execution_count": null,
   "metadata": {},
   "outputs": [
    {
     "data": {
      "text/plain": [
       "(10000, 100)"
      ]
     },
     "execution_count": 58,
     "metadata": {},
     "output_type": "execute_result"
    }
   ],
   "source": [
    "xtest_decod.shape"
   ]
  },
  {
   "cell_type": "markdown",
   "metadata": {},
   "source": [
    "# Concatenando las reviews con sus respectivos pos tag"
   ]
  },
  {
   "cell_type": "code",
   "execution_count": null,
   "metadata": {},
   "outputs": [],
   "source": [
    "x_train_final = np.hstack([X_train_tk,xtrain_decod])\n",
    "x_test_final=np.hstack([X_test_tk,xtest_decod])"
   ]
  },
  {
   "cell_type": "code",
   "execution_count": null,
   "metadata": {},
   "outputs": [
    {
     "data": {
      "text/plain": [
       "(10000, 200)"
      ]
     },
     "execution_count": 60,
     "metadata": {},
     "output_type": "execute_result"
    }
   ],
   "source": [
    "x_test_final.shape"
   ]
  },
  {
   "cell_type": "markdown",
   "metadata": {},
   "source": [
    "# Modelo para reviws + pos tag"
   ]
  },
  {
   "cell_type": "code",
   "execution_count": null,
   "metadata": {},
   "outputs": [
    {
     "name": "stdout",
     "output_type": "stream",
     "text": [
      "Model: \"sequential_4\"\n",
      "_________________________________________________________________\n",
      " Layer (type)                Output Shape              Param #   \n",
      "=================================================================\n",
      " embedding_4 (Embedding)     (None, 200, 100)          5944900   \n",
      "                                                                 \n",
      " conv1d_12 (Conv1D)          (None, 194, 128)          89728     \n",
      "                                                                 \n",
      " conv1d_13 (Conv1D)          (None, 188, 128)          114816    \n",
      "                                                                 \n",
      " batch_normalization_6 (Batc  (None, 188, 128)         512       \n",
      " hNormalization)                                                 \n",
      "                                                                 \n",
      " dropout_6 (Dropout)         (None, 188, 128)          0         \n",
      "                                                                 \n",
      " max_pooling1d_3 (MaxPooling  (None, 92, 128)          0         \n",
      " 1D)                                                             \n",
      "                                                                 \n",
      " conv1d_14 (Conv1D)          (None, 88, 64)            41024     \n",
      "                                                                 \n",
      " conv1d_15 (Conv1D)          (None, 84, 64)            20544     \n",
      "                                                                 \n",
      " batch_normalization_7 (Batc  (None, 84, 64)           256       \n",
      " hNormalization)                                                 \n",
      "                                                                 \n",
      " dropout_7 (Dropout)         (None, 84, 64)            0         \n",
      "                                                                 \n",
      " flatten_3 (Flatten)         (None, 5376)              0         \n",
      "                                                                 \n",
      " dense_4 (Dense)             (None, 1)                 5377      \n",
      "                                                                 \n",
      "=================================================================\n",
      "Total params: 6,217,157\n",
      "Trainable params: 6,216,773\n",
      "Non-trainable params: 384\n",
      "_________________________________________________________________\n"
     ]
    }
   ],
   "source": [
    "model2 = Sequential()\n",
    "model2.add(Embedding(input_dim=vocab_len, output_dim=embed_dim, input_length=MAX_SEQ_LENGTH*2))\n",
    "model2.add(Conv1D(128, 7, activation='relu'))\n",
    "model2.add(Conv1D(128,7, activation='relu'))\n",
    "model2.add(BatchNormalization())\n",
    "model2.add(Dropout(0.25))\n",
    "model2.add(MaxPooling1D(pool_size=5, strides = 2))\n",
    "model2.add(Conv1D(64,5, activation='relu'))\n",
    "model2.add(Conv1D(64,5, activation='relu'))\n",
    "model2.add((BatchNormalization()))\n",
    "model2.add(Dropout(0.25))\n",
    "model2.add(Flatten())\n",
    "model2.add(Dense(1, activation='sigmoid'))\n",
    "\n",
    "model2.compile(loss = 'binary_crossentropy', optimizer='adam', metrics = ['accuracy'])\n",
    "model2.summary()"
   ]
  },
  {
   "cell_type": "code",
   "execution_count": null,
   "metadata": {},
   "outputs": [
    {
     "name": "stdout",
     "output_type": "stream",
     "text": [
      "Epoch 1/7\n",
      "1250/1250 [==============================] - 42s 32ms/step - loss: 0.4379 - accuracy: 0.8023 - val_loss: 0.4084 - val_accuracy: 0.8042\n",
      "Epoch 2/7\n",
      "1250/1250 [==============================] - 42s 33ms/step - loss: 0.2377 - accuracy: 0.9064 - val_loss: 0.3327 - val_accuracy: 0.8665\n",
      "Epoch 3/7\n",
      "1250/1250 [==============================] - 41s 33ms/step - loss: 0.1377 - accuracy: 0.9473 - val_loss: 0.4196 - val_accuracy: 0.8628\n",
      "Epoch 4/7\n",
      "1250/1250 [==============================] - 40s 32ms/step - loss: 0.0685 - accuracy: 0.9748 - val_loss: 0.6753 - val_accuracy: 0.8399\n",
      "Epoch 5/7\n",
      "1250/1250 [==============================] - 40s 32ms/step - loss: 0.0417 - accuracy: 0.9855 - val_loss: 0.6831 - val_accuracy: 0.8596\n",
      "Epoch 6/7\n",
      "1250/1250 [==============================] - 41s 33ms/step - loss: 0.0314 - accuracy: 0.9890 - val_loss: 0.8380 - val_accuracy: 0.8528\n",
      "Epoch 7/7\n",
      "1250/1250 [==============================] - 41s 33ms/step - loss: 0.0271 - accuracy: 0.9908 - val_loss: 0.7489 - val_accuracy: 0.8593\n"
     ]
    },
    {
     "data": {
      "text/plain": [
       "<keras.callbacks.History at 0x1ea2f847d00>"
      ]
     },
     "execution_count": 63,
     "metadata": {},
     "output_type": "execute_result"
    }
   ],
   "source": [
    "model2.fit(x_train_final, y_train.values, epochs =7, validation_data=(x_test_final, y_test.values), batch_size=32)"
   ]
  }
 ],
 "metadata": {
  "kernelspec": {
   "display_name": "Python 3",
   "language": "python",
   "name": "python3"
  },
  "language_info": {
   "codemirror_mode": {
    "name": "ipython",
    "version": 3
   },
   "file_extension": ".py",
   "mimetype": "text/x-python",
   "name": "python",
   "nbconvert_exporter": "python",
   "pygments_lexer": "ipython3",
   "version": "3.9.5"
  }
 },
 "nbformat": 4,
 "nbformat_minor": 4
}
